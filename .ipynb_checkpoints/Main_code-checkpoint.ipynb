{
 "cells": [
  {
   "cell_type": "code",
   "execution_count": 27,
   "metadata": {},
   "outputs": [],
   "source": [
    "import os\n",
    "import numpy as np\n",
    "import pandas as pd\n",
    "pd.options.display.float_format = '{:,.2f}'.format\n",
    "from sklearn.preprocessing import LabelEncoder, StandardScaler\n",
    "from sklearn.model_selection import train_test_split\n",
    "from sklearn.metrics import f1_score, accuracy_score\n",
    "from sklearn.linear_model import LogisticRegression, LinearRegression\n",
    "import lightgbm as lgb\n",
    "import xgboost as xgb\n",
    "from catboost import CatBoostClassifier, Pool\n",
    "import matplotlib.pyplot as plt\n",
    "from scipy import stats\n",
    "from tqdm import trange\n",
    "import re\n",
    "\n",
    "\n",
    "\n",
    "from nltk.tokenize import RegexpTokenizer, word_tokenize, wordpunct_tokenize\n",
    "from nltk.corpus import wordnet\n",
    "import spacy \n",
    "  \n",
    "# Load English tokenizer, tagger,  \n",
    "# parser, NER and word vectors \n",
    "nlp = spacy.load(\"en_core_web_sm\") \n",
    "\n",
    "#Feature importance\n",
    "from sklearn.ensemble import RandomForestClassifier\n",
    "from sklearn.model_selection import StratifiedKFold\n",
    "from sklearn.preprocessing import MinMaxScaler\n",
    "from sklearn.decomposition import PCA\n",
    "\n",
    "\n",
    "\n",
    "#importing machine learning libraries\n",
    "import tensorflow as tf\n",
    "from tensorflow.keras.layers import Dense, LSTM, Input\n",
    "from tensorflow.keras.models import Model\n",
    "from tensorflow.keras.callbacks import EarlyStopping, ModelCheckpoint\n",
    "from tensorflow.python.framework.ops import disable_eager_execution\n",
    "\n",
    "disable_eager_execution()\n",
    "import pickle\n",
    "\n",
    "\n",
    "\n",
    "#Secondary imports\n",
    "import pandas_profiling as pp\n",
    "from scipy.stats import pearsonr\n",
    "import pickle\n",
    "\n",
    "\n",
    "%matplotlib inline\n",
    "\n",
    "np.set_printoptions(precision=2, suppress=True)"
   ]
  },
  {
   "cell_type": "markdown",
   "metadata": {},
   "source": [
    "## Reading Datasets"
   ]
  },
  {
   "cell_type": "code",
   "execution_count": 28,
   "metadata": {},
   "outputs": [],
   "source": [
    "train = pd.read_csv('train.csv')\n",
    "test = pd.read_csv('test.csv')\n",
    "result = pd.read_csv('results.csv')\n",
    "sample = pd.read_csv('sample_submission.csv')"
   ]
  },
  {
   "cell_type": "code",
   "execution_count": 29,
   "metadata": {},
   "outputs": [],
   "source": [
    "tokenizer = re.compile('([\\s.,;:()]+)')"
   ]
  },
  {
   "cell_type": "code",
   "execution_count": 30,
   "metadata": {},
   "outputs": [
    {
     "data": {
      "text/html": [
       "<div>\n",
       "<style scoped>\n",
       "    .dataframe tbody tr th:only-of-type {\n",
       "        vertical-align: middle;\n",
       "    }\n",
       "\n",
       "    .dataframe tbody tr th {\n",
       "        vertical-align: top;\n",
       "    }\n",
       "\n",
       "    .dataframe thead th {\n",
       "        text-align: right;\n",
       "    }\n",
       "</style>\n",
       "<table border=\"1\" class=\"dataframe\">\n",
       "  <thead>\n",
       "    <tr style=\"text-align: right;\">\n",
       "      <th></th>\n",
       "      <th>question</th>\n",
       "      <th>answer_text</th>\n",
       "      <th>distractor</th>\n",
       "    </tr>\n",
       "  </thead>\n",
       "  <tbody>\n",
       "    <tr>\n",
       "      <th>0</th>\n",
       "      <td>Meals can be served</td>\n",
       "      <td>in rooms at 9:00 p. m.</td>\n",
       "      <td>'outside the room at 3:00 p. m.', 'in the dini...</td>\n",
       "    </tr>\n",
       "    <tr>\n",
       "      <th>1</th>\n",
       "      <td>It can be inferred from the passage that</td>\n",
       "      <td>The local government can deal with the problem...</td>\n",
       "      <td>'If some tragedies occur again ', ' relevant d...</td>\n",
       "    </tr>\n",
       "    <tr>\n",
       "      <th>2</th>\n",
       "      <td>The author called Tommy 's parents in order to</td>\n",
       "      <td>help them realize their influence on Tommy</td>\n",
       "      <td>'blame Tommy for his failing grades', 'blame T...</td>\n",
       "    </tr>\n",
       "    <tr>\n",
       "      <th>3</th>\n",
       "      <td>It can be inferred from the passage that</td>\n",
       "      <td>the writer is not very willing to use idioms</td>\n",
       "      <td>'idioms are the most important part in a langu...</td>\n",
       "    </tr>\n",
       "    <tr>\n",
       "      <th>4</th>\n",
       "      <td>How can we deal with snake wounds according to...</td>\n",
       "      <td>Stay calm and do n't move .</td>\n",
       "      <td>'Cut the wound and suck the poison out .'</td>\n",
       "    </tr>\n",
       "  </tbody>\n",
       "</table>\n",
       "</div>"
      ],
      "text/plain": [
       "                                            question  \\\n",
       "0                                Meals can be served   \n",
       "1           It can be inferred from the passage that   \n",
       "2     The author called Tommy 's parents in order to   \n",
       "3           It can be inferred from the passage that   \n",
       "4  How can we deal with snake wounds according to...   \n",
       "\n",
       "                                         answer_text  \\\n",
       "0                             in rooms at 9:00 p. m.   \n",
       "1  The local government can deal with the problem...   \n",
       "2         help them realize their influence on Tommy   \n",
       "3       the writer is not very willing to use idioms   \n",
       "4                        Stay calm and do n't move .   \n",
       "\n",
       "                                          distractor  \n",
       "0  'outside the room at 3:00 p. m.', 'in the dini...  \n",
       "1  'If some tragedies occur again ', ' relevant d...  \n",
       "2  'blame Tommy for his failing grades', 'blame T...  \n",
       "3  'idioms are the most important part in a langu...  \n",
       "4          'Cut the wound and suck the poison out .'  "
      ]
     },
     "execution_count": 30,
     "metadata": {},
     "output_type": "execute_result"
    }
   ],
   "source": [
    "train.head()"
   ]
  },
  {
   "cell_type": "code",
   "execution_count": 31,
   "metadata": {},
   "outputs": [
    {
     "data": {
      "text/html": [
       "<div>\n",
       "<style scoped>\n",
       "    .dataframe tbody tr th:only-of-type {\n",
       "        vertical-align: middle;\n",
       "    }\n",
       "\n",
       "    .dataframe tbody tr th {\n",
       "        vertical-align: top;\n",
       "    }\n",
       "\n",
       "    .dataframe thead th {\n",
       "        text-align: right;\n",
       "    }\n",
       "</style>\n",
       "<table border=\"1\" class=\"dataframe\">\n",
       "  <thead>\n",
       "    <tr style=\"text-align: right;\">\n",
       "      <th></th>\n",
       "      <th>question</th>\n",
       "      <th>answer_text</th>\n",
       "    </tr>\n",
       "  </thead>\n",
       "  <tbody>\n",
       "    <tr>\n",
       "      <th>0</th>\n",
       "      <td>What 'S the main idea of the text ?</td>\n",
       "      <td>The lack of career -- based courses in US high...</td>\n",
       "    </tr>\n",
       "    <tr>\n",
       "      <th>1</th>\n",
       "      <td>In the summer high season , Finland does nt se...</td>\n",
       "      <td>the sun is out at night</td>\n",
       "    </tr>\n",
       "    <tr>\n",
       "      <th>2</th>\n",
       "      <td>If you want to apply for Chinese Business Inte...</td>\n",
       "      <td>have to get confirmed at least twice</td>\n",
       "    </tr>\n",
       "    <tr>\n",
       "      <th>3</th>\n",
       "      <td>That afternoon , the boy 's clothes were dry b...</td>\n",
       "      <td>nobody made room for him in the water .</td>\n",
       "    </tr>\n",
       "    <tr>\n",
       "      <th>4</th>\n",
       "      <td>Which of the following statements is NOT true ?</td>\n",
       "      <td>There are twelve countries in the World Wildli...</td>\n",
       "    </tr>\n",
       "  </tbody>\n",
       "</table>\n",
       "</div>"
      ],
      "text/plain": [
       "                                            question  \\\n",
       "0                What 'S the main idea of the text ?   \n",
       "1  In the summer high season , Finland does nt se...   \n",
       "2  If you want to apply for Chinese Business Inte...   \n",
       "3  That afternoon , the boy 's clothes were dry b...   \n",
       "4    Which of the following statements is NOT true ?   \n",
       "\n",
       "                                         answer_text  \n",
       "0  The lack of career -- based courses in US high...  \n",
       "1                            the sun is out at night  \n",
       "2               have to get confirmed at least twice  \n",
       "3            nobody made room for him in the water .  \n",
       "4  There are twelve countries in the World Wildli...  "
      ]
     },
     "execution_count": 31,
     "metadata": {},
     "output_type": "execute_result"
    }
   ],
   "source": [
    "test.head()"
   ]
  },
  {
   "cell_type": "markdown",
   "metadata": {},
   "source": [
    "## This will be first approach"
   ]
  },
  {
   "cell_type": "code",
   "execution_count": 32,
   "metadata": {},
   "outputs": [],
   "source": [
    "train['answer_text_broken'] = train['answer_text'].str.lower()\n",
    "train['answer_text_broken'] = train['answer_text_broken'].apply(lambda x : re.split(tokenizer, x))\n"
   ]
  },
  {
   "cell_type": "code",
   "execution_count": 33,
   "metadata": {},
   "outputs": [
    {
     "data": {
      "text/plain": [
       "'The local government can deal with the problem of lacking money by some means .'"
      ]
     },
     "execution_count": 33,
     "metadata": {},
     "output_type": "execute_result"
    }
   ],
   "source": [
    "''.join(train['answer_text'][1])"
   ]
  },
  {
   "cell_type": "markdown",
   "metadata": {},
   "source": [
    "## Commencing 3 stage prediction"
   ]
  },
  {
   "cell_type": "code",
   "execution_count": 59,
   "metadata": {},
   "outputs": [],
   "source": [
    "centre = train['answer_text_broken'].values\n",
    "done = [0 for _ in range(len(centre))]\n",
    "dist = [[] for _ in range(len(centre))]"
   ]
  },
  {
   "cell_type": "code",
   "execution_count": 60,
   "metadata": {},
   "outputs": [],
   "source": [
    "def syn_ant(word):\n",
    "    ant = list()\n",
    "    syn = list()\n",
    "\n",
    "    for synset in wordnet.synsets(word):\n",
    "        for lemma in synset.lemmas():\n",
    "            syn.append(lemma.name())    #add the synonyms\n",
    "            if lemma.antonyms():    #When antonyms are available, add them into the list\n",
    "                ant.append(lemma.antonyms()[0].name())\n",
    "    ant = list(set(ant))\n",
    "    syn = list(set(syn))\n",
    "    \n",
    "    return syn[:4], ant"
   ]
  },
  {
   "cell_type": "code",
   "execution_count": 62,
   "metadata": {},
   "outputs": [
    {
     "name": "stderr",
     "output_type": "stream",
     "text": [
      "100%|██████████| 31499/31499 [05:20<00:00, 105.70it/s]\n"
     ]
    }
   ],
   "source": [
    "#Going to execute 3 stage approach for all the 2 distractors\n",
    "for i in trange(len(centre)):\n",
    "    #Stage 1: based on changing numbers\n",
    "    for j in range(len(centre[i])):\n",
    "        try:\n",
    "            int(centre[i][j])\n",
    "            centre[i][j] = str(int(centre[i][j]) + 1)\n",
    "            dist[i].append(''.join(centre[i]))\n",
    "            centre[i][j] = str(int(centre[i][j]) + 1)\n",
    "            dist[i].append(''.join(centre[i]))\n",
    "            dist[i].append('None of the above')\n",
    "            done[i] += 3\n",
    "            break\n",
    "        except:\n",
    "            pass\n",
    "    #Stage 2: based on antonyms\n",
    "    if done[i] == 0:\n",
    "        st2 = nlp(train['answer_text'].values[i])\n",
    "        for j in range(len(st2)):\n",
    "            if st2[j].pos_ == 'ADJ':\n",
    "                if len(syn_ant(str(st2[j]))[1])>2:\n",
    "                    c1, c2 = str(st2), str(st2)\n",
    "                    an1, an2 = syn_ant(str(st2[j]))[1][0], syn_ant(str(st2[j]))[1][1] \n",
    "                    c1 = c1.replace(str(st2[j]), an1)\n",
    "                    c2 = c2.replace(str(st2[j]), an2)\n",
    "                    dist[i].append(c1)\n",
    "                    dist[i].append(c2)\n",
    "                    dist[i].append('None of the above')\n",
    "                    done[i]+=3\n",
    "                    break\n",
    "                    \n",
    "                elif len(syn_ant(str(st2[j]))[1]) == 1:\n",
    "                    c1, c2 = str(st2), str(st2)\n",
    "                    an1, an2 = syn_ant(str(st2[j]))[1][0], syn_ant(str(st2[j]))[0][0] \n",
    "                    c1 = c1.replace(str(st2[j]), an1)\n",
    "                    c2 = c2.replace(str(st2[j]), an2)\n",
    "                    dist[i].append(c1)\n",
    "                    dist[i].append(c2)\n",
    "                    dist[i].append('None of the above')\n",
    "                    done[i]+=3\n",
    "                    break\n",
    "                    \n",
    "                elif len(syn_ant(str(st2[j]))[0]) >= 2:\n",
    "                    c1, c2 = str(st2), str(st2)\n",
    "                    an1, an2 = syn_ant(str(st2[j]))[0][0], syn_ant(str(st2[j]))[0][1] \n",
    "                    c1 = c1.replace(str(st2[j]), an1)\n",
    "                    c2 = c2.replace(str(st2[j]), an2)\n",
    "                    dist[i].append(c1)\n",
    "                    dist[i].append(c2)\n",
    "                    dist[i].append('None of the above')\n",
    "                    done[i]+=3\n",
    "                    break\n",
    "                    \n",
    "    if done[i] == 0:\n",
    "        st2 = nlp(train['answer_text'].values[i])\n",
    "        for j in range(len(st2)):\n",
    "            if st2[j].pos_ == 'ADP':\n",
    "                if len(syn_ant(str(st2[j]))[1])>2:\n",
    "                    c1, c2 = str(st2), str(st2)\n",
    "                    an1, an2 = syn_ant(str(st2[j]))[1][0], syn_ant(str(st2[j]))[1][1] \n",
    "                    c1 = c1.replace(str(st2[j]), an1)\n",
    "                    c2 = c2.replace(str(st2[j]), an2)\n",
    "                    dist[i].append(c1)\n",
    "                    dist[i].append(c2)\n",
    "                    dist[i].append('None of the above')\n",
    "                    done[i]+=3\n",
    "                    break\n",
    "                    \n",
    "                elif len(syn_ant(str(st2[j]))[1]) == 1:\n",
    "                    c1, c2 = str(st2), str(st2)\n",
    "                    an1, an2 = syn_ant(str(st2[j]))[1][0], syn_ant(str(st2[j]))[0][0] \n",
    "                    c1 = c1.replace(str(st2[j]), an1)\n",
    "                    c2 = c2.replace(str(st2[j]), an2)\n",
    "                    dist[i].append(c1)\n",
    "                    dist[i].append(c2)\n",
    "                    dist[i].append('None of the above')\n",
    "                    done[i]+=3\n",
    "                    break\n",
    "                    \n",
    "                elif len(syn_ant(str(st2[j]))[0]) >= 2:\n",
    "                    c1, c2 = str(st2), str(st2)\n",
    "                    an1, an2 = syn_ant(str(st2[j]))[0][0], syn_ant(str(st2[j]))[0][1] \n",
    "                    c1 = c1.replace(str(st2[j]), an1)\n",
    "                    c2 = c2.replace(str(st2[j]), an2)\n",
    "                    dist[i].append(c1)\n",
    "                    dist[i].append(c2)\n",
    "                    dist[i].append('None of the above')\n",
    "                    done[i]+=3\n",
    "                    break\n",
    "    if done[i] == 0:\n",
    "        st2 = nlp(train['answer_text'].values[i])\n",
    "        for j in range(len(st2)):\n",
    "            if st2[j].pos_ == 'NOUN':\n",
    "                if len(syn_ant(str(st2[j]))[1])>2:\n",
    "                    c1, c2 = str(st2), str(st2)\n",
    "                    an1, an2 = syn_ant(str(st2[j]))[1][0], syn_ant(str(st2[j]))[1][1] \n",
    "                    c1 = c1.replace(str(st2[j]), an1)\n",
    "                    c2 = c2.replace(str(st2[j]), an2)\n",
    "                    dist[i].append(c1)\n",
    "                    dist[i].append(c2)\n",
    "                    dist[i].append('None of the above')\n",
    "                    done[i]+=3\n",
    "                    break\n",
    "                    \n",
    "                elif len(syn_ant(str(st2[j]))[1]) == 1:\n",
    "                    c1, c2 = str(st2), str(st2)\n",
    "                    an1, an2 = syn_ant(str(st2[j]))[1][0], syn_ant(str(st2[j]))[0][0] \n",
    "                    c1 = c1.replace(str(st2[j]), an1)\n",
    "                    c2 = c2.replace(str(st2[j]), an2)\n",
    "                    dist[i].append(c1)\n",
    "                    dist[i].append(c2)\n",
    "                    dist[i].append('None of the above')\n",
    "                    done[i]+=3\n",
    "                    break\n",
    "                    \n",
    "                elif len(syn_ant(str(st2[j]))[0]) >= 2:\n",
    "                    c1, c2 = str(st2), str(st2)\n",
    "                    an1, an2 = syn_ant(str(st2[j]))[0][0], syn_ant(str(st2[j]))[0][1] \n",
    "                    c1 = c1.replace(str(st2[j]), an1)\n",
    "                    c2 = c2.replace(str(st2[j]), an2)\n",
    "                    dist[i].append(c1)\n",
    "                    dist[i].append(c2)\n",
    "                    dist[i].append('None of the above')\n",
    "                    done[i]+=3\n",
    "                    break\n",
    "    if done[i] == 0:\n",
    "        st2 = nlp(train['answer_text'].values[i])\n",
    "        for j in range(len(st2)):\n",
    "            if st2[j].pos_ == 'VERB':\n",
    "                if len(syn_ant(str(st2[j]))[1])>2:\n",
    "                    c1, c2 = str(st2), str(st2)\n",
    "                    an1, an2 = syn_ant(str(st2[j]))[1][0], syn_ant(str(st2[j]))[1][1] \n",
    "                    c1 = c1.replace(str(st2[j]), an1)\n",
    "                    c2 = c2.replace(str(st2[j]), an2)\n",
    "                    dist[i].append(c1)\n",
    "                    dist[i].append(c2)\n",
    "                    dist[i].append('None of the above')\n",
    "                    done[i]+=3\n",
    "                    break\n",
    "                    \n",
    "                elif len(syn_ant(str(st2[j]))[1]) == 1:\n",
    "                    c1, c2 = str(st2), str(st2)\n",
    "                    an1, an2 = syn_ant(str(st2[j]))[1][0], syn_ant(str(st2[j]))[0][0] \n",
    "                    c1 = c1.replace(str(st2[j]), an1)\n",
    "                    c2 = c2.replace(str(st2[j]), an2)\n",
    "                    dist[i].append(c1)\n",
    "                    dist[i].append(c2)\n",
    "                    dist[i].append('None of the above')\n",
    "                    done[i]+=3\n",
    "                    break\n",
    "                    \n",
    "                elif len(syn_ant(str(st2[j]))[0]) >= 2:\n",
    "                    c1, c2 = str(st2), str(st2)\n",
    "                    an1, an2 = syn_ant(str(st2[j]))[0][0], syn_ant(str(st2[j]))[0][1] \n",
    "                    c1 = c1.replace(str(st2[j]), an1)\n",
    "                    c2 = c2.replace(str(st2[j]), an2)\n",
    "                    dist[i].append(c1)\n",
    "                    dist[i].append(c2)\n",
    "                    dist[i].append('None of the above')\n",
    "                    done[i]+=3\n",
    "                    break\n",
    "    if done[i] == 0:\n",
    "        st2 = nlp(train['answer_text'].values[i])\n",
    "        for j in range(len(st2)):\n",
    "            if st2[j].pos_ == 'ADV':\n",
    "                if len(syn_ant(str(st2[j]))[1])>2:\n",
    "                    c1, c2 = str(st2), str(st2)\n",
    "                    an1, an2 = syn_ant(str(st2[j]))[1][0], syn_ant(str(st2[j]))[1][1] \n",
    "                    c1 = c1.replace(str(st2[j]), an1)\n",
    "                    c2 = c2.replace(str(st2[j]), an2)\n",
    "                    dist[i].append(c1)\n",
    "                    dist[i].append(c2)\n",
    "                    dist[i].append('None of the above')\n",
    "                    done[i]+=3\n",
    "                    break\n",
    "                    \n",
    "                elif len(syn_ant(str(st2[j]))[1]) == 1:\n",
    "                    c1, c2 = str(st2), str(st2)\n",
    "                    an1, an2 = syn_ant(str(st2[j]))[1][0], syn_ant(str(st2[j]))[0][0] \n",
    "                    c1 = c1.replace(str(st2[j]), an1)\n",
    "                    c2 = c2.replace(str(st2[j]), an2)\n",
    "                    dist[i].append(c1)\n",
    "                    dist[i].append(c2)\n",
    "                    dist[i].append('None of the above')\n",
    "                    done[i]+=3\n",
    "                    break\n",
    "                    \n",
    "                elif len(syn_ant(str(st2[j]))[0]) >= 2:\n",
    "                    c1, c2 = str(st2), str(st2)\n",
    "                    an1, an2 = syn_ant(str(st2[j]))[0][0], syn_ant(str(st2[j]))[0][1] \n",
    "                    c1 = c1.replace(str(st2[j]), an1)\n",
    "                    c2 = c2.replace(str(st2[j]), an2)\n",
    "                    dist[i].append(c1)\n",
    "                    dist[i].append(c2)\n",
    "                    dist[i].append('None of the above')\n",
    "                    done[i]+=3\n",
    "                    break\n",
    "    if done[i] == 0:\n",
    "        st2 = nlp(train['answer_text'].values[i])\n",
    "        for j in range(len(st2)):\n",
    "            if st2[j].pos_ == 'PROPN':\n",
    "                if len(syn_ant(str(st2[j]))[1])>2:\n",
    "                    c1, c2 = str(st2), str(st2)\n",
    "                    an1, an2 = syn_ant(str(st2[j]))[1][0], syn_ant(str(st2[j]))[1][1] \n",
    "                    c1 = c1.replace(str(st2[j]), an1)\n",
    "                    c2 = c2.replace(str(st2[j]), an2)\n",
    "                    dist[i].append(c1)\n",
    "                    dist[i].append(c2)\n",
    "                    dist[i].append('None of the above')\n",
    "                    done[i]+=3\n",
    "                    break\n",
    "                    \n",
    "                elif len(syn_ant(str(st2[j]))[1]) == 1:\n",
    "                    c1, c2 = str(st2), str(st2)\n",
    "                    an1, an2 = syn_ant(str(st2[j]))[1][0], syn_ant(str(st2[j]))[0][0] \n",
    "                    c1 = c1.replace(str(st2[j]), an1)\n",
    "                    c2 = c2.replace(str(st2[j]), an2)\n",
    "                    dist[i].append(c1)\n",
    "                    dist[i].append(c2)\n",
    "                    dist[i].append('None of the above')\n",
    "                    done[i]+=3\n",
    "                    break\n",
    "                    \n",
    "                elif len(syn_ant(str(st2[j]))[0]) >= 2:\n",
    "                    c1, c2 = str(st2), str(st2)\n",
    "                    an1, an2 = syn_ant(str(st2[j]))[0][0], syn_ant(str(st2[j]))[0][1] \n",
    "                    c1 = c1.replace(str(st2[j]), an1)\n",
    "                    c2 = c2.replace(str(st2[j]), an2)\n",
    "                    dist[i].append(c1)\n",
    "                    dist[i].append(c2)\n",
    "                    dist[i].append('None of the above')\n",
    "                    done[i]+=3\n",
    "                    break   \n",
    "    if done[i] == 0:\n",
    "        st2 = nlp(train['answer_text'].values[i])\n",
    "        for j in range(len(st2)):\n",
    "            if st2[j].pos_ == 'CCONJ' or st2[j].pos_ == 'CONJ':\n",
    "                c1, c2 = str(st2), str(st2)\n",
    "                chan = False\n",
    "                if c1 == 'AND':\n",
    "                    c1 = 'OR'\n",
    "                    c2 = 'NOR'\n",
    "                    chan = True\n",
    "                elif c1 == 'OR':\n",
    "                    c1 = 'AND'\n",
    "                    c2 = 'NOR'\n",
    "                    chan = True\n",
    "                if c2 == 'AND':\n",
    "                    c2 = 'OR'\n",
    "                    c1 = 'NOR'\n",
    "                    chan = True\n",
    "                elif c2 == 'OR':\n",
    "                    c2 = 'AND'\n",
    "                    c1 = 'NOR'\n",
    "                    chan = True\n",
    "                if chan==False:\n",
    "                    c1 ,c2= 'AND', 'OR'\n",
    "                c1 = c1.replace(str(st2[j]), an1)\n",
    "                c2 = c2.replace(str(st2[j]), an2)\n",
    "                dist[i].append(c1)\n",
    "                dist[i].append(c2)\n",
    "                dist[i].append('None of the above')\n",
    "                done[i]+=3\n",
    "                break\n",
    "    if done[i] == 0:\n",
    "        dist[i].append(c1)\n",
    "        dist[i].append(c2)\n",
    "        dist[i].append('None of the above')\n",
    "        done[i]+=3\n",
    "        break\n",
    "                 \n",
    "#     if done[i] == 0:\n",
    "#         st2 = nlp(train['answer_text'].values[i])                \n",
    "#         len(syn_ant(str(st2[j]))[0]) >= 2:\n",
    "#         c1, c2 = str(st2), str(st2)\n",
    "#         an1, an2 = syn_ant(str(st2[j]))[0][0], syn_ant(str(st2[j]))[0][1] \n",
    "#         c1 = c1.replace(str(st2[j]), an1)\n",
    "#         c2 = c2.replace(str(st2[j]), an2)\n",
    "#         dist[i].append(c1)\n",
    "#         dist[i].append(c2)\n",
    "#         dist[i].append('None of the above')\n",
    "#         done[i]+=3\n",
    "    "
   ]
  },
  {
   "cell_type": "code",
   "execution_count": 63,
   "metadata": {},
   "outputs": [
    {
     "data": {
      "text/plain": [
       "(array([0, 3]), array([  156, 31343]))"
      ]
     },
     "execution_count": 63,
     "metadata": {},
     "output_type": "execute_result"
    }
   ],
   "source": [
    "np.unique(done, return_counts=True)"
   ]
  },
  {
   "cell_type": "code",
   "execution_count": 66,
   "metadata": {},
   "outputs": [
    {
     "data": {
      "text/plain": [
       "array([  665, 20829,  9069, ..., 10529, 10527, 31498])"
      ]
     },
     "execution_count": 66,
     "metadata": {},
     "output_type": "execute_result"
    }
   ],
   "source": [
    "np.argsort(done)"
   ]
  },
  {
   "cell_type": "code",
   "execution_count": 68,
   "metadata": {},
   "outputs": [
    {
     "data": {
      "text/plain": [
       "['traveline']"
      ]
     },
     "execution_count": 68,
     "metadata": {},
     "output_type": "execute_result"
    }
   ],
   "source": [
    "centre[665]"
   ]
  },
  {
   "cell_type": "code",
   "execution_count": 52,
   "metadata": {},
   "outputs": [
    {
     "name": "stdout",
     "output_type": "stream",
     "text": [
      "Sony PROPN\n",
      "Ericsson PROPN\n",
      "'s PART\n",
      "W800i PROPN\n",
      "and CCONJ\n",
      "Sumsung PROPN\n",
      "'s PART\n",
      "SPH PROPN\n",
      "- PUNCT\n",
      "V5400 PROPN\n"
     ]
    }
   ],
   "source": [
    "for i in range(len(st2)):\n",
    "    print(st2[i], st2[i].pos_)"
   ]
  },
  {
   "cell_type": "code",
   "execution_count": 22,
   "metadata": {},
   "outputs": [
    {
     "ename": "NameError",
     "evalue": "name 'st2o' is not defined",
     "output_type": "error",
     "traceback": [
      "\u001b[0;31m---------------------------------------------------------------------------\u001b[0m",
      "\u001b[0;31mNameError\u001b[0m                                 Traceback (most recent call last)",
      "\u001b[0;32m<ipython-input-22-de4b11dbf308>\u001b[0m in \u001b[0;36m<module>\u001b[0;34m\u001b[0m\n\u001b[0;32m----> 1\u001b[0;31m \u001b[0;32mfor\u001b[0m \u001b[0mj\u001b[0m \u001b[0;32min\u001b[0m \u001b[0mrange\u001b[0m\u001b[0;34m(\u001b[0m\u001b[0mlen\u001b[0m\u001b[0;34m(\u001b[0m\u001b[0mst2o\u001b[0m\u001b[0;34m)\u001b[0m\u001b[0;34m)\u001b[0m\u001b[0;34m:\u001b[0m\u001b[0;34m\u001b[0m\u001b[0m\n\u001b[0m\u001b[1;32m      2\u001b[0m     \u001b[0;32mif\u001b[0m \u001b[0mst2o\u001b[0m\u001b[0;34m[\u001b[0m\u001b[0mj\u001b[0m\u001b[0;34m]\u001b[0m\u001b[0;34m.\u001b[0m\u001b[0mpos_\u001b[0m \u001b[0;34m==\u001b[0m \u001b[0;34m'ADP'\u001b[0m\u001b[0;34m:\u001b[0m\u001b[0;34m\u001b[0m\u001b[0m\n\u001b[1;32m      3\u001b[0m         \u001b[0mprint\u001b[0m\u001b[0;34m(\u001b[0m\u001b[0mst2o\u001b[0m\u001b[0;34m[\u001b[0m\u001b[0mj\u001b[0m\u001b[0;34m]\u001b[0m\u001b[0;34m)\u001b[0m\u001b[0;34m\u001b[0m\u001b[0m\n",
      "\u001b[0;31mNameError\u001b[0m: name 'st2o' is not defined"
     ]
    }
   ],
   "source": [
    "for j in range(len(st2o)):\n",
    "    if st2o[j].pos_ == 'ADP':\n",
    "        print(st2o[j])"
   ]
  },
  {
   "cell_type": "code",
   "execution_count": 24,
   "metadata": {},
   "outputs": [
    {
     "data": {
      "text/plain": [
       "'A discussion about what makes a good student .'"
      ]
     },
     "execution_count": 24,
     "metadata": {},
     "output_type": "execute_result"
    }
   ],
   "source": [
    "st2"
   ]
  },
  {
   "cell_type": "code",
   "execution_count": 58,
   "metadata": {},
   "outputs": [
    {
     "data": {
      "text/plain": [
       "([], [])"
      ]
     },
     "execution_count": 58,
     "metadata": {},
     "output_type": "execute_result"
    }
   ],
   "source": [
    "syn_ant('and')"
   ]
  },
  {
   "cell_type": "code",
   "execution_count": 239,
   "metadata": {},
   "outputs": [
    {
     "data": {
      "text/plain": [
       "0                                   in rooms at 9:00 p. m.\n",
       "1        The local government can deal with the problem...\n",
       "2               help them realize their influence on Tommy\n",
       "3             the writer is not very willing to use idioms\n",
       "4                              Stay calm and do n't move .\n",
       "5                        She missed her family very much .\n",
       "6                    Chen Jianqing and one of her partners\n",
       "7        Soccer is popular all over the world , but tru...\n",
       "8                                                    panic\n",
       "9        Five children died in a kindergarten bus accid...\n",
       "10                     we have a fight with our classmates\n",
       "11       The king tried to control the national parliam...\n",
       "12       Wang Jinbi wants to transform her hukou back ,...\n",
       "13       Poverty and family problems contribute to chil...\n",
       "14       Fighting back tears may cause some health prob...\n",
       "15       choosing food is related to Asian - American '...\n",
       "16              make America get ahead in digital learning\n",
       "17               In an air - raid shelter during the war .\n",
       "18             downloading every e - mail before you reply\n",
       "19       encourage their students to seek advice about ...\n",
       "20         give us advice on how to keep the brain healthy\n",
       "21       All the Oceans in the world are polluted by oil .\n",
       "22                We should not use our own names online .\n",
       "23                   By observing the phenomenon closely .\n",
       "24                               enjoy food with eggplants\n",
       "25                                  always look for praise\n",
       "26                      The woman made most of decisions .\n",
       "27           winning an honor has caused Lesley some worry\n",
       "28       Dad had thought one outsider had cut the flowe...\n",
       "29       Because he wants everyone to be happy with his...\n",
       "                               ...                        \n",
       "31469    represent that the old man has given love to m...\n",
       "31470    Local pubs are being seriously affected by gas...\n",
       "31471    Diesel engines were mainly used on airplanes a...\n",
       "31472                         photos on a poacher 's phone\n",
       "31473    their mothers do not respond enough to their a...\n",
       "31474    It is a part of San Francisco 's wonderful sky...\n",
       "31475     It 's better to be angry than to be frightened .\n",
       "31476                It has pages with several functions .\n",
       "31477                               was being wrongly used\n",
       "31478            Sailors took tortoises aboard the ships .\n",
       "31479    because he believed the answer should be in hi...\n",
       "31480         may work in a private office or in a cubicle\n",
       "31481    Sony Ericsson 's W800i and Sumsung 's SPH - V5400\n",
       "31482    There are no secrets in the book Duke of Zhou ...\n",
       "31483    people not having high EQ may not be successfu...\n",
       "31484    Ritual has a religious purpose and drama does ...\n",
       "31485         Creating less pollution , having less weight\n",
       "31486                                      familiar humans\n",
       "31487                            How to be a good reader .\n",
       "31488                         faulty building construction\n",
       "31489    Because the rising temperature has made the ic...\n",
       "31490    parents ' attitude towards their children 's m...\n",
       "31491    They pay closer attention to market opportunit...\n",
       "31492                            laughter is best medicine\n",
       "31493         the writer gets along well with his only son\n",
       "31494    Tally never left him when times were hard for ...\n",
       "31495                        driving the elderly to church\n",
       "31496                           Little Tom makes a mistake\n",
       "31497           materialism has run wild in modern society\n",
       "31498                  he often mixed herbs for his mother\n",
       "Name: answer_text, Length: 31499, dtype: object"
      ]
     },
     "execution_count": 239,
     "metadata": {},
     "output_type": "execute_result"
    }
   ],
   "source": [
    "train['answer_text']"
   ]
  },
  {
   "cell_type": "code",
   "execution_count": 139,
   "metadata": {},
   "outputs": [
    {
     "data": {
      "text/plain": [
       "(array([0, 1]), array([30736,   763]))"
      ]
     },
     "execution_count": 139,
     "metadata": {},
     "output_type": "execute_result"
    }
   ],
   "source": [
    "np.unique(done, return_counts=True) # So for around 763 samples we can just change numbers and create different options"
   ]
  },
  {
   "cell_type": "code",
   "execution_count": 135,
   "metadata": {},
   "outputs": [
    {
     "data": {
      "text/plain": [
       "'10'"
      ]
     },
     "execution_count": 135,
     "metadata": {},
     "output_type": "execute_result"
    }
   ],
   "source": [
    "str(int(centre[0][6]) + 1)"
   ]
  },
  {
   "cell_type": "code",
   "execution_count": 190,
   "metadata": {},
   "outputs": [
    {
     "data": {
      "text/plain": [
       "['same']"
      ]
     },
     "execution_count": 190,
     "metadata": {},
     "output_type": "execute_result"
    }
   ],
   "source": [
    "syn_ant('other')[1]"
   ]
  },
  {
   "cell_type": "code",
   "execution_count": 166,
   "metadata": {},
   "outputs": [
    {
     "data": {
      "text/html": [
       "<div>\n",
       "<style scoped>\n",
       "    .dataframe tbody tr th:only-of-type {\n",
       "        vertical-align: middle;\n",
       "    }\n",
       "\n",
       "    .dataframe tbody tr th {\n",
       "        vertical-align: top;\n",
       "    }\n",
       "\n",
       "    .dataframe thead th {\n",
       "        text-align: right;\n",
       "    }\n",
       "</style>\n",
       "<table border=\"1\" class=\"dataframe\">\n",
       "  <thead>\n",
       "    <tr style=\"text-align: right;\">\n",
       "      <th></th>\n",
       "      <th>question</th>\n",
       "      <th>answer_text</th>\n",
       "      <th>distractor</th>\n",
       "    </tr>\n",
       "  </thead>\n",
       "  <tbody>\n",
       "    <tr>\n",
       "      <th>0</th>\n",
       "      <td>Which city's landmarks include: The Pantheon, ...</td>\n",
       "      <td>Rome</td>\n",
       "      <td>‘Barcelona’,’Athens’,’Istanbul’</td>\n",
       "    </tr>\n",
       "    <tr>\n",
       "      <th>1</th>\n",
       "      <td>What is the color of Donald Duck's bowtie?</td>\n",
       "      <td>Red</td>\n",
       "      <td>‘Blue’,’Yellow’,’Green’</td>\n",
       "    </tr>\n",
       "    <tr>\n",
       "      <th>2</th>\n",
       "      <td>What’s a web browser?</td>\n",
       "      <td>A software program that allows you to access s...</td>\n",
       "      <td>‘A kind of spider’,’A computer that stores WWW...</td>\n",
       "    </tr>\n",
       "  </tbody>\n",
       "</table>\n",
       "</div>"
      ],
      "text/plain": [
       "                                            question  \\\n",
       "0  Which city's landmarks include: The Pantheon, ...   \n",
       "1         What is the color of Donald Duck's bowtie?   \n",
       "2                              What’s a web browser?   \n",
       "\n",
       "                                         answer_text  \\\n",
       "0                                               Rome   \n",
       "1                                                Red   \n",
       "2  A software program that allows you to access s...   \n",
       "\n",
       "                                          distractor  \n",
       "0                    ‘Barcelona’,’Athens’,’Istanbul’  \n",
       "1                            ‘Blue’,’Yellow’,’Green’  \n",
       "2  ‘A kind of spider’,’A computer that stores WWW...  "
      ]
     },
     "execution_count": 166,
     "metadata": {},
     "output_type": "execute_result"
    }
   ],
   "source": [
    "sample.head()"
   ]
  },
  {
   "cell_type": "code",
   "execution_count": 167,
   "metadata": {},
   "outputs": [
    {
     "data": {
      "text/plain": [
       "'‘Barcelona’,’Athens’,’Istanbul’'"
      ]
     },
     "execution_count": 167,
     "metadata": {},
     "output_type": "execute_result"
    }
   ],
   "source": [
    "sample['distractor'][0]"
   ]
  },
  {
   "cell_type": "code",
   "execution_count": null,
   "metadata": {},
   "outputs": [],
   "source": []
  },
  {
   "cell_type": "code",
   "execution_count": null,
   "metadata": {},
   "outputs": [],
   "source": []
  },
  {
   "cell_type": "code",
   "execution_count": null,
   "metadata": {},
   "outputs": [],
   "source": []
  },
  {
   "cell_type": "code",
   "execution_count": null,
   "metadata": {},
   "outputs": [],
   "source": []
  },
  {
   "cell_type": "code",
   "execution_count": null,
   "metadata": {},
   "outputs": [],
   "source": []
  }
 ],
 "metadata": {
  "kernelspec": {
   "display_name": "Python 3",
   "language": "python",
   "name": "python3"
  },
  "language_info": {
   "codemirror_mode": {
    "name": "ipython",
    "version": 3
   },
   "file_extension": ".py",
   "mimetype": "text/x-python",
   "name": "python",
   "nbconvert_exporter": "python",
   "pygments_lexer": "ipython3",
   "version": "3.5.6"
  }
 },
 "nbformat": 4,
 "nbformat_minor": 4
}
